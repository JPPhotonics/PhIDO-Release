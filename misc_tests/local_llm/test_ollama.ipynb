{
 "cells": [
  {
   "cell_type": "code",
   "execution_count": null,
   "metadata": {},
   "outputs": [],
   "source": [
    "import ollama"
   ]
  },
  {
   "cell_type": "code",
   "execution_count": null,
   "metadata": {},
   "outputs": [],
   "source": [
    "r = ollama.generate(\n",
    "    model=\"llama3\",\n",
    "    system=\"answer everything as a gay pirate from future.\",\n",
    "    prompt=\"Why is the sky blue?\",\n",
    ")\n",
    "print(r.keys())\n",
    "print(1e-9 * r[\"total_duration\"])\n",
    "print(r[\"response\"])"
   ]
  },
  {
   "cell_type": "code",
   "execution_count": null,
   "metadata": {},
   "outputs": [],
   "source": [
    "r = ollama.generate(\n",
    "    model=\"llama3:70b\",\n",
    "    system=\"answer everything as a gay pirate from future.\",\n",
    "    prompt=\"Why is the sky blue?\",\n",
    ")\n",
    "print(1e-9 * r[\"total_duration\"])\n",
    "print(r[\"response\"])"
   ]
  },
  {
   "cell_type": "code",
   "execution_count": null,
   "metadata": {},
   "outputs": [],
   "source": []
  }
 ],
 "metadata": {
  "kernelspec": {
   "display_name": "base",
   "language": "python",
   "name": "python3"
  },
  "language_info": {
   "codemirror_mode": {
    "name": "ipython",
    "version": 3
   },
   "file_extension": ".py",
   "mimetype": "text/x-python",
   "name": "python",
   "nbconvert_exporter": "python",
   "pygments_lexer": "ipython3",
   "version": "3.11.7"
  }
 },
 "nbformat": 4,
 "nbformat_minor": 2
}
