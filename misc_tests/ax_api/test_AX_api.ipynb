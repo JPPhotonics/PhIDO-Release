{
 "cells": [
  {
   "cell_type": "code",
   "execution_count": null,
   "metadata": {},
   "outputs": [],
   "source": [
    "import os\n",
    "\n",
    "import requests\n",
    "from dotenv import load_dotenv\n",
    "\n",
    "load_dotenv()\n",
    "\n",
    "\n",
    "def send_post_request(\n",
    "    file_path,\n",
    "    api_url=\"https://api.axiomatic-ai.com/pic/extract\",\n",
    "    api_key=os.getenv(\"AX_API_KEY\"),\n",
    "):\n",
    "    url_with_key = f\"{api_url}?key={api_key}\"  # Add the API key to the URL\n",
    "\n",
    "    headers = {\n",
    "        \"accept\": \"application/json\",\n",
    "    }\n",
    "\n",
    "    files = {\"file\": (file_path, open(file_path, \"rb\"), \"application/pdf\")}\n",
    "\n",
    "    response = requests.post(url_with_key, headers=headers, files=files)\n",
    "\n",
    "    if response.status_code == 200:\n",
    "        return response.json()  # or response.text for raw output\n",
    "    else:\n",
    "        return f\"Error: {response.status_code}, {response.text}\"\n",
    "\n",
    "\n",
    "file_path = \"3.pdf\"\n",
    "response_data = send_post_request(file_path)\n",
    "\n",
    "response_data"
   ]
  },
  {
   "cell_type": "code",
   "execution_count": null,
   "metadata": {},
   "outputs": [],
   "source": []
  }
 ],
 "metadata": {
  "kernelspec": {
   "display_name": "PhotonEnv",
   "language": "python",
   "name": "python3"
  },
  "language_info": {
   "codemirror_mode": {
    "name": "ipython",
    "version": 3
   },
   "file_extension": ".py",
   "mimetype": "text/x-python",
   "name": "python",
   "nbconvert_exporter": "python",
   "pygments_lexer": "ipython3",
   "version": "3.12.5"
  }
 },
 "nbformat": 4,
 "nbformat_minor": 2
}
