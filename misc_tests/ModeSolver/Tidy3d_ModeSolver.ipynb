{
 "cells": [
  {
   "cell_type": "markdown",
   "metadata": {},
   "source": [
    "# Testing Tidy3D mode solver\n",
    "https://gdsfactory.github.io/gplugins/notebooks/tidy3d_01_tidy3d_modes.html"
   ]
  },
  {
   "cell_type": "code",
   "execution_count": null,
   "metadata": {},
   "outputs": [],
   "source": [
    "import gplugins.tidy3d as gt\n",
    "import matplotlib.pyplot as plt\n",
    "import numpy as np\n",
    "\n",
    "nm = 1e-3\n",
    "\n",
    "print(gt.materials.MaterialSpecTidy3d)"
   ]
  },
  {
   "cell_type": "code",
   "execution_count": null,
   "metadata": {},
   "outputs": [],
   "source": [
    "strip = gt.modes.Waveguide(\n",
    "    wavelength=1.55,\n",
    "    core_width=1.0,\n",
    "    slab_thickness=0.0,\n",
    "    core_material=\"si\",\n",
    "    clad_material=\"sio2\",\n",
    "    core_thickness=220 * nm,\n",
    "    num_modes=4,\n",
    ")\n",
    "w = np.linspace(400 * nm, 1000 * nm, 10)\n",
    "n_eff = gt.modes.sweep_n_eff(strip, core_width=w)\n",
    "fraction_te = gt.modes.sweep_fraction_te(strip, core_width=w)\n",
    "\n",
    "for i in range(4):\n",
    "    plt.plot(w, n_eff.sel(mode_index=i).real, c=\"k\")\n",
    "    plt.scatter(\n",
    "        w, n_eff.sel(mode_index=i).real, c=fraction_te.sel(mode_index=i), vmin=0, vmax=1\n",
    "    )\n",
    "plt.axhline(y=1.44, color=\"k\", ls=\"--\")\n",
    "plt.colorbar().set_label(\"TE fraction\")\n",
    "plt.xlabel(\"Width of waveguide (µm)\")\n",
    "plt.ylabel(\"Effective refractive index\")\n",
    "plt.title(\"Effective index sweep\")"
   ]
  },
  {
   "cell_type": "code",
   "execution_count": null,
   "metadata": {},
   "outputs": [],
   "source": []
  }
 ],
 "metadata": {
  "kernelspec": {
   "display_name": "PhotonEnv",
   "language": "python",
   "name": "python3"
  },
  "language_info": {
   "codemirror_mode": {
    "name": "ipython",
    "version": 3
   },
   "file_extension": ".py",
   "mimetype": "text/x-python",
   "name": "python",
   "nbconvert_exporter": "python",
   "pygments_lexer": "ipython3",
   "version": "3.12.2"
  }
 },
 "nbformat": 4,
 "nbformat_minor": 2
}
