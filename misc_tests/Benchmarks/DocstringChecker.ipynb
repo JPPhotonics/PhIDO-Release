{
 "cells": [
  {
   "cell_type": "markdown",
   "metadata": {},
   "source": [
    "# Docstring Quality Control"
   ]
  },
  {
   "cell_type": "code",
   "execution_count": null,
   "metadata": {},
   "outputs": [],
   "source": [
    "import sys\n",
    "\n",
    "sys.path.append(\"/Users/vahid/Downloads/PhotonicsAI_Project\")\n",
    "import yaml\n",
    "\n",
    "from PhotonicsAI.Photon import utils\n",
    "\n",
    "with open(\"../../Frontend/prompts.yaml\") as file:\n",
    "    prompts = yaml.safe_load(file)\n",
    "\n",
    "db_docs = utils.search_directory_for_docstrings(directory=\"../../KnowledgeBase\")\n",
    "d = {}\n",
    "d[\"list_of_docs\"] = [i[\"docstring\"] for i in db_docs]\n",
    "d[\"list_of_cnames\"] = [i[\"class_name\"] for i in db_docs]"
   ]
  },
  {
   "cell_type": "code",
   "execution_count": null,
   "metadata": {},
   "outputs": [],
   "source": [
    "n_footprint = 0\n",
    "n_ports = 0\n",
    "\n",
    "for c in d[\"list_of_docs\"]:\n",
    "    c_yaml = yaml.safe_load(c)\n",
    "    if \"ports\" in c_yaml:\n",
    "        n_ports += 1\n",
    "    if \"Footprint Estimate\" in c_yaml:\n",
    "        n_footprint += 1\n",
    "\n",
    "print(f\"{len(d['list_of_cnames'])}: total items\")\n",
    "print(f\"{n_ports}: with ports\")\n",
    "print(f\"{n_footprint}: with footprint\")"
   ]
  },
  {
   "cell_type": "code",
   "execution_count": null,
   "metadata": {},
   "outputs": [],
   "source": []
  }
 ],
 "metadata": {
  "kernelspec": {
   "display_name": "PhotonEnv",
   "language": "python",
   "name": "python3"
  },
  "language_info": {
   "codemirror_mode": {
    "name": "ipython",
    "version": 3
   },
   "file_extension": ".py",
   "mimetype": "text/x-python",
   "name": "python",
   "nbconvert_exporter": "python",
   "pygments_lexer": "ipython3",
   "version": "3.12.2"
  }
 },
 "nbformat": 4,
 "nbformat_minor": 2
}
