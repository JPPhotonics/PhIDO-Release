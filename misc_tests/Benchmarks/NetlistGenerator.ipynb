{
 "cells": [
  {
   "cell_type": "markdown",
   "metadata": {},
   "source": [
    "## Benchmarking Netlist Generator"
   ]
  },
  {
   "cell_type": "code",
   "execution_count": null,
   "metadata": {},
   "outputs": [],
   "source": [
    "import sys\n",
    "\n",
    "sys.path.append(\"/Users/vahid/Downloads/PhotonicsAI_Project\")\n",
    "from collections import Counter\n",
    "\n",
    "import yaml\n",
    "\n",
    "from PhotonicsAI.Photon import llm_api, utils\n",
    "\n",
    "with open(\"../../Frontend/prompts.yaml\") as file:\n",
    "    prompts = yaml.safe_load(file)\n",
    "\n",
    "db_docs = utils.search_directory_for_docstrings(directory=\"../../KnowledgeBase\")\n",
    "list_of_docs = [i[\"docstring\"] for i in db_docs]\n",
    "list_of_cnames = [i[\"class_name\"] for i in db_docs]\n",
    "\n",
    "d = {\n",
    "    \"list_of_docs\": list_of_docs,\n",
    "    \"list_of_cnames\": list_of_cnames,\n",
    "}\n",
    "\n",
    "llm_api_selection_ = [\n",
    "    \"fireworks: llama-v3-70b-instruct\",\n",
    "    # 'fireworks: llama-v3-8b-instruct',\n",
    "    \"openai: gpt-4o\",\n",
    "    # 'openai: gpt-3.5',\n",
    "    #   'groq: llama3-70b',\n",
    "    # 'groq: llama3-8b',\n",
    "    # 'fireworks: qwen2-72b-instruct',\n",
    "    # 'fireworks: mixtral-8x22b-instruct',\n",
    "    \"google: gemini-1.5-flash\",\n",
    "    #   'google: gemini-1.5-pro',\n",
    "]"
   ]
  },
  {
   "cell_type": "code",
   "execution_count": null,
   "metadata": {},
   "outputs": [],
   "source": [
    "N = 10\n",
    "\n",
    "for llm_api_selection in llm_api_selection_:\n",
    "    res_connections = []\n",
    "    res_search = []\n",
    "    d[\"llm_api_selection\"] = llm_api_selection\n",
    "    print(\"-------------\")\n",
    "    print(llm_api_selection)\n",
    "    for _i in range(N):\n",
    "        try:\n",
    "            d[\"prompt\"] = (\n",
    "                \"Five cascaded MZIs, each with two input and two output ports.\"\n",
    "            )\n",
    "\n",
    "            d[\"raw_component_list\"] = llm_api.call_llm(\n",
    "                d[\"prompt\"], prompts[\"classify\"], d[\"llm_api_selection\"]\n",
    "            )\n",
    "            d[\"db_component_list\"], d[\"modified_yaml_data_all\"] = (\n",
    "                llm_api.yaml_components_search(d)\n",
    "            )\n",
    "\n",
    "            _data = yaml.safe_load(d[\"db_component_list\"])\n",
    "            res_search.append(list(_data.values())[0][\"component\"])\n",
    "        except:\n",
    "            res_search.append(\"ERROR\")\n",
    "\n",
    "        try:\n",
    "            r_netlist = llm_api.parsed_prompt_to_netlist(d)\n",
    "            res_connections.append(yaml.safe_load(r_netlist)[\"connections\"])\n",
    "        except:\n",
    "            res_connections.append({\"ERROR\": \"ERROR\"})\n",
    "\n",
    "    # Count the search results\n",
    "    counter = Counter(res_search)\n",
    "    unique_items = list(counter.items())\n",
    "    unique_items.sort(key=lambda x: x[0])\n",
    "    print(\"Search results:\")\n",
    "    for item, count in unique_items:\n",
    "        print(f\"    {count}: {item}\")\n",
    "\n",
    "    # count the netlist connections\n",
    "    dict_tuples = [tuple(sorted(d.items())) for d in res_connections]\n",
    "    counter = Counter(dict_tuples)\n",
    "    sorted_counts = sorted(counter.items(), key=lambda x: x[1], reverse=True)\n",
    "    print(\"Connections:\")\n",
    "    for dict_tuple, count in sorted_counts:\n",
    "        unique_dict = dict(dict_tuple)\n",
    "        print(f\"    Count: {count}: {unique_dict}\")"
   ]
  },
  {
   "cell_type": "code",
   "execution_count": null,
   "metadata": {},
   "outputs": [],
   "source": []
  },
  {
   "cell_type": "code",
   "execution_count": null,
   "metadata": {},
   "outputs": [],
   "source": []
  }
 ],
 "metadata": {
  "kernelspec": {
   "display_name": "PhotonEnv",
   "language": "python",
   "name": "python3"
  },
  "language_info": {
   "codemirror_mode": {
    "name": "ipython",
    "version": 3
   },
   "file_extension": ".py",
   "mimetype": "text/x-python",
   "name": "python",
   "nbconvert_exporter": "python",
   "pygments_lexer": "ipython3",
   "version": "3.12.2"
  }
 },
 "nbformat": 4,
 "nbformat_minor": 2
}
