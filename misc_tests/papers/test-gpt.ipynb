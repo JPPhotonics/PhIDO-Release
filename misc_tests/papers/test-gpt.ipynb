{
 "cells": [
  {
   "cell_type": "code",
   "execution_count": null,
   "metadata": {},
   "outputs": [],
   "source": [
    "from dotenv import load_dotenv\n",
    "\n",
    "load_dotenv()\n",
    "import base64\n",
    "import os\n",
    "\n",
    "import requests\n",
    "\n",
    "# OpenAI API Key\n",
    "api_key = os.getenv(\"OPENAI_API_KEY\")\n",
    "\n",
    "\n",
    "# Function to encode the image\n",
    "def encode_image(image_path):\n",
    "    with open(image_path, \"rb\") as image_file:\n",
    "        return base64.b64encode(image_file.read()).decode(\"utf-8\")"
   ]
  },
  {
   "cell_type": "code",
   "execution_count": null,
   "metadata": {},
   "outputs": [],
   "source": [
    "r = []\n",
    "\n",
    "for i in range(10):\n",
    "    try:\n",
    "        print(i)\n",
    "\n",
    "        # Path to your image\n",
    "        image_path = \"1.jpg\"\n",
    "\n",
    "        # Getting the base64 string\n",
    "        base64_image = encode_image(image_path)\n",
    "\n",
    "        headers = {\n",
    "            \"Content-Type\": \"application/json\",\n",
    "            \"Authorization\": f\"Bearer {api_key}\",\n",
    "        }\n",
    "\n",
    "        payload = {\n",
    "            \"model\": \"gpt-4o\",\n",
    "            \"temperature\": 0.1,\n",
    "            \"seed\": 1,\n",
    "            \"max_tokens\": 2000,\n",
    "            \"messages\": [\n",
    "                {\n",
    "                    \"role\": \"user\",\n",
    "                    \"content\": [\n",
    "                        {\n",
    "                            \"type\": \"text\",\n",
    "                            \"text\": \" This is an image of an academic paper. \\\n",
    "                        Parse it accurately as text and format the output in markdown. \\\n",
    "                        If you see an actual figure with caption, parse it in a HTML <figure> tag and its caption in a <figurecation>. \\\n",
    "                        For each figure, add a description of what is shown in the figure to <img alt='...'>.\\\n",
    "                        If the page has a header and a footer, discard them from the text.\",\n",
    "                        },\n",
    "                        {\n",
    "                            \"type\": \"image_url\",\n",
    "                            \"image_url\": {\n",
    "                                \"url\": f\"data:image/jpeg;base64,{base64_image}\"\n",
    "                            },\n",
    "                        },\n",
    "                    ],\n",
    "                }\n",
    "            ],\n",
    "        }\n",
    "\n",
    "        response = requests.post(\n",
    "            \"https://api.openai.com/v1/chat/completions\", headers=headers, json=payload\n",
    "        )\n",
    "        # print(response.json())\n",
    "\n",
    "        r.append(response.json()[\"choices\"][0][\"message\"][\"content\"])\n",
    "        # print(response.json()['choices'][0]['message']['content'])\n",
    "    except:\n",
    "        print(\"---- error ----\")\n",
    "        pass"
   ]
  },
  {
   "cell_type": "code",
   "execution_count": null,
   "metadata": {},
   "outputs": [],
   "source": [
    "print(r[5])"
   ]
  },
  {
   "cell_type": "code",
   "execution_count": null,
   "metadata": {},
   "outputs": [],
   "source": []
  }
 ],
 "metadata": {
  "kernelspec": {
   "display_name": "PhotonEnv",
   "language": "python",
   "name": "python3"
  },
  "language_info": {
   "codemirror_mode": {
    "name": "ipython",
    "version": 3
   },
   "file_extension": ".py",
   "mimetype": "text/x-python",
   "name": "python",
   "nbconvert_exporter": "python",
   "pygments_lexer": "ipython3",
   "version": "3.12.5"
  }
 },
 "nbformat": 4,
 "nbformat_minor": 2
}
