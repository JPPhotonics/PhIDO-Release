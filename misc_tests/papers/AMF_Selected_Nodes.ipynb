{
 "cells": [
  {
   "cell_type": "markdown",
   "metadata": {},
   "source": [
    "## load texts into dataframe"
   ]
  },
  {
   "cell_type": "code",
   "execution_count": null,
   "metadata": {},
   "outputs": [],
   "source": [
    "import os\n",
    "\n",
    "import fitz  # PyMuPDF\n",
    "import pandas as pd\n",
    "\n",
    "directory = \"db/AMF_selected/\"\n",
    "\n",
    "filenames = []\n",
    "for filename in os.listdir(directory):\n",
    "    if filename.endswith(\".pdf\"):\n",
    "        filenames.append({\"filename\": filename})\n",
    "df = pd.DataFrame(filenames)\n",
    "\n",
    "\n",
    "df[\"text_header\"] = \"\"\n",
    "df[\"N_pages\"] = 0\n",
    "df[\"text_full\"] = \"\"\n",
    "for index, row in df.iterrows():\n",
    "    filepath = os.path.join(directory, row[\"filename\"])\n",
    "\n",
    "    doc = fitz.open(filepath)\n",
    "    text = \"\"\n",
    "    full_text = \"\"\n",
    "\n",
    "    total_pages = len(doc)\n",
    "    df.at[index, \"N_pages\"] = total_pages\n",
    "\n",
    "    header_pages = 3\n",
    "    for page_num in range(total_pages):\n",
    "        page = doc.load_page(page_num)\n",
    "        page_text = page.get_text()\n",
    "        full_text += page_text\n",
    "\n",
    "        # Store text from the first `n_pages` in header_text\n",
    "        if page_num < header_pages:\n",
    "            text += page_text\n",
    "\n",
    "    df.at[index, \"text_header\"] = text\n",
    "    df.at[index, \"text_full\"] = full_text\n",
    "\n",
    "    doc.close()\n",
    "\n",
    "df.to_parquet(\"db/AMF_SelectedPapers.parquet\")\n",
    "\n",
    "print(df.info())"
   ]
  },
  {
   "cell_type": "markdown",
   "metadata": {},
   "source": [
    "## get paper title by LLM"
   ]
  },
  {
   "cell_type": "code",
   "execution_count": null,
   "metadata": {},
   "outputs": [],
   "source": [
    "import sys\n",
    "\n",
    "sys.path.append(\"C:/Users/vansari/Documents/PhotonicAI\")\n",
    "from tqdm.notebook import tqdm\n",
    "\n",
    "from PhotonicsAI.Photon import llm_api\n",
    "\n",
    "# sys_prompt = 'Identify the main topics in this document.'\n",
    "sys_prompt = \"Identify and return the title of this document without modifications.\"\n",
    "\n",
    "df[\"title_4omini\"] = \"\"\n",
    "for index, row in tqdm(df.iterrows(), total=len(df)):\n",
    "    r = llm_api.call_openai(\n",
    "        row[\"text_header\"], sys_prompt=sys_prompt, model=\"gpt-4o-mini\"\n",
    "    )\n",
    "    df.at[index, \"title_4omini\"] = r"
   ]
  },
  {
   "cell_type": "code",
   "execution_count": null,
   "metadata": {},
   "outputs": [],
   "source": [
    "df.to_parquet(\"db/AMF_SelectedPapers.parquet\")"
   ]
  },
  {
   "cell_type": "markdown",
   "metadata": {},
   "source": [
    "## extract components"
   ]
  },
  {
   "cell_type": "code",
   "execution_count": null,
   "metadata": {},
   "outputs": [],
   "source": [
    "import sys\n",
    "\n",
    "import pandas as pd\n",
    "import yaml\n",
    "from pydantic import BaseModel\n",
    "\n",
    "sys.path.append(\"C:/Users/vansari/Documents/PhotonicAI\")\n",
    "from PhotonicsAI.Photon import llm_api\n",
    "\n",
    "\n",
    "class ComponentsResponse(BaseModel):\n",
    "    single_article: bool\n",
    "    topic_photonic: bool\n",
    "    components_list: list[str]\n",
    "\n",
    "\n",
    "df = pd.read_parquet(\"db/AMF_SelectedPapers.parquet\")\n",
    "df[\"single_article\"] = None\n",
    "df[\"topic_photonic\"] = None\n",
    "df[\"components_list\"] = None\n",
    "\n",
    "sys_prompt1 = \"\"\"Is this a single academic article (single_article)?\n",
    "Is the main topic of this article about integrated photonic circuits (topic_photonic)?\n",
    "If yes, find the photonic components that are used on the chip.\n",
    "Return a concise list of these photonic components, if any (components_list).\n",
    "\"\"\"\n",
    "\n",
    "for idx, row in df.iterrows():\n",
    "    if row[\"N_pages\"] < 20:\n",
    "        print(idx, \"=======================================\")\n",
    "        r = llm_api.callgpt_pydantic(row[\"text_full\"], sys_prompt1, ComponentsResponse)\n",
    "        print(yaml.dump(r.dict()))\n",
    "        df.at[idx, \"single_article\"] = r.single_article\n",
    "        df.at[idx, \"topic_photonic\"] = r.topic_photonic\n",
    "        df.at[idx, \"components_list\"] = r.components_list\n",
    "\n",
    "df.to_parquet(\"db/AMF_SelectedPapers.parquet\")"
   ]
  },
  {
   "cell_type": "code",
   "execution_count": null,
   "metadata": {},
   "outputs": [],
   "source": [
    "df.head()"
   ]
  },
  {
   "cell_type": "code",
   "execution_count": null,
   "metadata": {},
   "outputs": [],
   "source": []
  }
 ],
 "metadata": {
  "kernelspec": {
   "display_name": "PhotonEnv",
   "language": "python",
   "name": "python3"
  },
  "language_info": {
   "codemirror_mode": {
    "name": "ipython",
    "version": 3
   },
   "file_extension": ".py",
   "mimetype": "text/x-python",
   "name": "python",
   "nbconvert_exporter": "python",
   "pygments_lexer": "ipython3",
   "version": "3.11.6"
  }
 },
 "nbformat": 4,
 "nbformat_minor": 2
}
