{
 "cells": [
  {
   "cell_type": "markdown",
   "metadata": {},
   "source": [
    "# AMF papers"
   ]
  },
  {
   "cell_type": "code",
   "execution_count": null,
   "metadata": {},
   "outputs": [],
   "source": [
    "import os\n",
    "\n",
    "import fitz  # PyMuPDF\n",
    "import pandas as pd\n",
    "\n",
    "directory = \"db/AMF/\"\n",
    "\n",
    "filenames = []\n",
    "for filename in os.listdir(directory):\n",
    "    if filename.endswith(\".pdf\"):\n",
    "        filenames.append({\"filename\": filename})\n",
    "df = pd.DataFrame(filenames)\n",
    "\n",
    "\n",
    "df[\"header_text\"] = \"\"\n",
    "df[\"N_pages\"] = 0\n",
    "df[\"full_text\"] = \"\"\n",
    "for index, row in df.iterrows():\n",
    "    filepath = os.path.join(directory, row[\"filename\"])\n",
    "\n",
    "    doc = fitz.open(filepath)\n",
    "    text = \"\"\n",
    "    full_text = \"\"\n",
    "\n",
    "    total_pages = len(doc)\n",
    "    df.at[index, \"N_pages\"] = total_pages\n",
    "\n",
    "    header_pages = 3\n",
    "    for page_num in range(total_pages):\n",
    "        page = doc.load_page(page_num)\n",
    "        page_text = page.get_text()\n",
    "        full_text += page_text\n",
    "\n",
    "        # Store text from the first `n_pages` in header_text\n",
    "        if page_num < header_pages:\n",
    "            text += page_text\n",
    "\n",
    "    df.at[index, \"header_text\"] = text\n",
    "    df.at[index, \"full_text\"] = full_text\n",
    "\n",
    "    doc.close()\n",
    "\n",
    "print(df.info())"
   ]
  },
  {
   "cell_type": "code",
   "execution_count": null,
   "metadata": {},
   "outputs": [],
   "source": [
    "import matplotlib.pyplot as plt\n",
    "\n",
    "plt.figure()\n",
    "plt.hist(df[\"N_pages\"], bins=range(1, df[\"N_pages\"].max() + 2))\n",
    "plt.xscale(\"log\")\n",
    "plt.xlabel(\"Number of Pages\")\n",
    "plt.ylabel(\"Frequency\")"
   ]
  },
  {
   "cell_type": "code",
   "execution_count": null,
   "metadata": {},
   "outputs": [],
   "source": [
    "import sys\n",
    "\n",
    "sys.path.append(\"/Users/vahid/Downloads/PhotonicsAI_Project\")\n",
    "from tqdm.notebook import tqdm\n",
    "\n",
    "from PhotonicsAI.Photon import llm_api\n",
    "\n",
    "# sys_prompt = 'Identify the main topics in this document.'\n",
    "sys_prompt = \"Identify and return the title of this document without modifications.\"\n",
    "\n",
    "df[\"llm_title\"] = \"\"\n",
    "for index, row in tqdm(df.iterrows(), total=len(df)):\n",
    "    r = llm_api.call_openai(\n",
    "        row[\"header_text\"], sys_prompt=sys_prompt, model=\"gpt-4o-mini\"\n",
    "    )\n",
    "    df.at[index, \"llm_title\"] = r"
   ]
  },
  {
   "cell_type": "code",
   "execution_count": null,
   "metadata": {},
   "outputs": [],
   "source": [
    "sys_prompt = (\n",
    "    \"Classify this document into one of the following categories: [research_article, \\\n",
    "                review_article, dissertation, collection_of_articles, whitepaper_or_news_article, none]. \\\n",
    "                Only respond with one of the categories and no explanation.\"\n",
    ")\n",
    "\n",
    "df[\"llm_cat0\"] = \"\"\n",
    "for index, row in tqdm(df.iterrows(), total=len(df)):\n",
    "    r = llm_api.call_openai(\n",
    "        row[\"header_text\"], sys_prompt=sys_prompt, model=\"gpt-4o-mini\"\n",
    "    )\n",
    "    df.at[index, \"llm_cat0\"] = r"
   ]
  },
  {
   "cell_type": "code",
   "execution_count": null,
   "metadata": {},
   "outputs": [],
   "source": [
    "%matplotlib inline\n",
    "cat0_counts = df[\"llm_cat0\"].value_counts()\n",
    "plt.figure(figsize=(4, 3))\n",
    "ax = cat0_counts.plot(kind=\"barh\")\n",
    "plt.xlabel(\"Frequency\")\n",
    "for index, value in enumerate(cat0_counts):\n",
    "    ax.annotate(\n",
    "        str(value),\n",
    "        xy=(value, index),\n",
    "        xytext=(5, 0),\n",
    "        textcoords=\"offset points\",\n",
    "        ha=\"left\",\n",
    "        va=\"center\",\n",
    "    )"
   ]
  },
  {
   "cell_type": "code",
   "execution_count": null,
   "metadata": {},
   "outputs": [],
   "source": [
    "sys_prompt = (\n",
    "    \"This is the first couple pages of a scientific article, in the topic of integrated photonics.\\\n",
    "                Extract the main devices/circuits/systems developed or built in this article.\\\n",
    "                Rerurn a list of these extracted labels, comma separated. You can only select a maximum of four labels.\\\n",
    "                Only respond with these labels and no other explanation.\"\n",
    ")\n",
    "\n",
    "df[\"labels\"] = \"\"\n",
    "for index, row in tqdm(df.iterrows(), total=len(df)):\n",
    "    if row[\"llm_cat0\"] == \"research_article\":\n",
    "        r = llm_api.call_openai(\n",
    "            row[\"header_text\"], sys_prompt=sys_prompt, model=\"gpt-4o-mini\"\n",
    "        )\n",
    "        df.at[index, \"labels\"] = r\n",
    "\n",
    "# df.to_parquet('db/AMF_papers.parquet')"
   ]
  },
  {
   "cell_type": "code",
   "execution_count": null,
   "metadata": {},
   "outputs": [],
   "source": [
    "df_exploded = df[\"labels\"].str.split(\",\").explode().str.strip()\n",
    "label_counts = df_exploded.value_counts()\n",
    "label_counts.head(15)\n",
    "# label_counts.to_dict()"
   ]
  },
  {
   "cell_type": "code",
   "execution_count": null,
   "metadata": {},
   "outputs": [],
   "source": [
    "sys_prompt = (\n",
    "    \"This is beginning of a scientific article in the topic of integrated photonics.\\\n",
    "                Is it about photonic circuit? Circuits have multiple interconnected components working together in an integrated system.\\\n",
    "                Examples of a single component: a modulator or a detector. Circuit examples: a transceiver or a multiplexer.\\\n",
    "                If article is about a circuit, answer with the brief title of circuit. This should be a high level title without detail specifications.\\\n",
    "                If not, answer with NO.\\\n",
    "                Do not provide any other explanation.\"\n",
    ")\n",
    "\n",
    "df[\"circuit\"] = \"\"\n",
    "for index, row in tqdm(df.iterrows(), total=len(df)):\n",
    "    if row[\"llm_cat0\"] == \"research_article\":\n",
    "        r = llm_api.call_openai(\n",
    "            row[\"header_text\"], sys_prompt=sys_prompt, model=\"gpt-4o-mini\"\n",
    "        )\n",
    "        df.at[index, \"circuit\"] = r\n",
    "\n",
    "# df.to_parquet('db/AMF_papers.parquet')"
   ]
  },
  {
   "cell_type": "code",
   "execution_count": null,
   "metadata": {},
   "outputs": [],
   "source": [
    "# df['circuit'][3]\n",
    "\n",
    "df_exploded = df[\"circuit\"].explode()\n",
    "label_counts = df_exploded.value_counts()\n",
    "# for index, value in label_counts.items():\n",
    "#     print(value)\n",
    "label_counts.head(20)\n",
    "# df_exploded.unique()"
   ]
  },
  {
   "cell_type": "code",
   "execution_count": null,
   "metadata": {},
   "outputs": [],
   "source": []
  },
  {
   "cell_type": "code",
   "execution_count": null,
   "metadata": {},
   "outputs": [],
   "source": [
    "sys_prompt = \"This is a title of photonic circuit.\\\n",
    "                Remove any specifications/details and return the main function. \\\n",
    "                For example, [4×100 Gb/s DWDM Optical Transceiver] to [transceiver]; \\\n",
    "                [Polarization-Insensitive Multimode Antisymmetric Waveguide Bragg Grating Filter] to [Bragg Grating Filter].\\\n",
    "                Do not provide any explanation.\"\n",
    "\n",
    "df[\"circuit_distilled\"] = \"\"\n",
    "for index, row in tqdm(df.iterrows(), total=len(df)):\n",
    "    if (row[\"circuit\"] != \"\") & (row[\"circuit\"] != \"NO\"):\n",
    "        r = llm_api.call_openai(\n",
    "            row[\"full_text\"], sys_prompt=sys_prompt, model=\"gpt-4o-mini\"\n",
    "        )\n",
    "        df.at[index, \"circuit_distilled\"] = r"
   ]
  },
  {
   "cell_type": "code",
   "execution_count": null,
   "metadata": {},
   "outputs": [],
   "source": [
    "sys_prompt = \"\"\"This is a scientific article about an integrated photonic circuit.\n",
    "Based on the input article, extract the title of the implemented circuit,\n",
    "the primitive components (these are on-chip components only),\n",
    "the instructions how to assemble the components into the circuit layout,\n",
    "and a short summary of how the chip is modelled or measured.\n",
    "Answer in YAML following the template below.\n",
    "If the paper discusses more than one circuit (e.g. two distinct variations, or a transmitter circuit and a receiver circuit),\n",
    "add them as separate entries in the YAML list.\n",
    "Do not add yaml quote to the output text.\n",
    "\n",
    "Example YAML:\n",
    "Circuit1:\n",
    "    title: wavelength division demultiplexer\n",
    "    components:\n",
    "        - MZI_1 with a delta length of 200 micrometer\n",
    "        - MZI_2 with a delta length of 100 micrometer\n",
    "        - MZI_3 with a delta length of 100 micrometer\n",
    "    assembly_instructions: |\n",
    "        Take three MZIs each with one input ports and two output ports.\n",
    "        Connect one output port of MZI_1 to the input port of MZI_2.\n",
    "        Connect the other output port of MZI_1 to the the input port of MZI_3.\n",
    "    brief_summary: |\n",
    "        The silicon chip is fabricated using deep etch process.\n",
    "        The chip was measured using a 1550 nm pulsed laser source.\"\"\"\n",
    "\n",
    "df[\"PreTemplate\"] = \"\"\n",
    "for index, row in tqdm(df.iterrows(), total=len(df)):\n",
    "    if (row[\"circuit\"] != \"\") & (row[\"circuit\"] != \"NO\"):\n",
    "        # print(row['full_text'])\n",
    "        r = llm_api.call_openai(row[\"full_text\"], sys_prompt=sys_prompt, model=\"gpt-4o\")\n",
    "        # print(r)\n",
    "        df.at[index, \"PreTemplate\"] = r\n",
    "        # sdfsdf"
   ]
  },
  {
   "cell_type": "code",
   "execution_count": null,
   "metadata": {},
   "outputs": [],
   "source": [
    "df.to_parquet(\"db/AMF_papers.parquet\")"
   ]
  },
  {
   "cell_type": "code",
   "execution_count": null,
   "metadata": {},
   "outputs": [],
   "source": [
    "print(df.loc[238, \"PreTemplate\"])\n",
    "# details on the layout\n",
    "# what is the stack? standard SOI or SiN,\n",
    "# what spatial and polarization mode is used? standard TE? or it's multimode?"
   ]
  },
  {
   "cell_type": "code",
   "execution_count": null,
   "metadata": {},
   "outputs": [],
   "source": []
  }
 ],
 "metadata": {
  "kernelspec": {
   "display_name": "PhotonEnv",
   "language": "python",
   "name": "python3"
  },
  "language_info": {
   "codemirror_mode": {
    "name": "ipython",
    "version": 3
   },
   "file_extension": ".py",
   "mimetype": "text/x-python",
   "name": "python",
   "nbconvert_exporter": "python",
   "pygments_lexer": "ipython3",
   "version": "3.12.5"
  }
 },
 "nbformat": 4,
 "nbformat_minor": 2
}
