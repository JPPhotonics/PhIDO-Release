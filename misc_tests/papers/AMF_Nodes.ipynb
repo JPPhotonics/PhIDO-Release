{
 "cells": [
  {
   "cell_type": "markdown",
   "metadata": {},
   "source": [
    "## load texts into dataframe"
   ]
  },
  {
   "cell_type": "code",
   "execution_count": null,
   "metadata": {},
   "outputs": [],
   "source": [
    "import os\n",
    "\n",
    "import fitz  # PyMuPDF\n",
    "import pandas as pd\n",
    "\n",
    "directory = \"db/AMF/\"\n",
    "\n",
    "filenames = []\n",
    "for filename in os.listdir(directory):\n",
    "    if filename.endswith(\".pdf\"):\n",
    "        filenames.append({\"filename\": filename})\n",
    "df = pd.DataFrame(filenames)\n",
    "\n",
    "\n",
    "df[\"text_header\"] = \"\"\n",
    "df[\"N_pages\"] = 0\n",
    "df[\"text_full\"] = \"\"\n",
    "for index, row in df.iterrows():\n",
    "    filepath = os.path.join(directory, row[\"filename\"])\n",
    "\n",
    "    doc = fitz.open(filepath)\n",
    "    text = \"\"\n",
    "    full_text = \"\"\n",
    "\n",
    "    total_pages = len(doc)\n",
    "    df.at[index, \"N_pages\"] = total_pages\n",
    "\n",
    "    header_pages = 3\n",
    "    for page_num in range(total_pages):\n",
    "        page = doc.load_page(page_num)\n",
    "        page_text = page.get_text()\n",
    "        full_text += page_text\n",
    "\n",
    "        # Store text from the first `n_pages` in header_text\n",
    "        if page_num < header_pages:\n",
    "            text += page_text\n",
    "\n",
    "    df.at[index, \"text_header\"] = text\n",
    "    df.at[index, \"text_full\"] = full_text\n",
    "\n",
    "    doc.close()\n",
    "\n",
    "df.to_parquet(\"db/AMF_papers.parquet\")\n",
    "\n",
    "print(df.info())"
   ]
  },
  {
   "cell_type": "markdown",
   "metadata": {},
   "source": [
    "## get paper title by LLM"
   ]
  },
  {
   "cell_type": "code",
   "execution_count": null,
   "metadata": {},
   "outputs": [],
   "source": [
    "import sys\n",
    "\n",
    "sys.path.append(\"C:/Users/vansari/Documents/PhotonicAI\")\n",
    "from tqdm.notebook import tqdm\n",
    "\n",
    "from PhotonicsAI.Photon import llm_api\n",
    "\n",
    "# sys_prompt = 'Identify the main topics in this document.'\n",
    "sys_prompt = \"Identify and return the title of this document without modifications.\"\n",
    "\n",
    "df[\"title_4omini\"] = \"\"\n",
    "for index, row in tqdm(df.iterrows(), total=len(df)):\n",
    "    r = llm_api.call_openai(\n",
    "        row[\"text_header\"], sys_prompt=sys_prompt, model=\"gpt-4o-mini\"\n",
    "    )\n",
    "    df.at[index, \"title_4omini\"] = r"
   ]
  },
  {
   "cell_type": "code",
   "execution_count": null,
   "metadata": {},
   "outputs": [],
   "source": [
    "df.to_parquet(\"db/AMF_papers.parquet\")"
   ]
  },
  {
   "cell_type": "markdown",
   "metadata": {},
   "source": [
    "## extract components"
   ]
  },
  {
   "cell_type": "code",
   "execution_count": null,
   "metadata": {},
   "outputs": [],
   "source": [
    "import sys\n",
    "\n",
    "import pandas as pd\n",
    "import yaml\n",
    "from pydantic import BaseModel\n",
    "\n",
    "sys.path.append(\"C:/Users/vansari/Documents/PhotonicAI\")\n",
    "from PhotonicsAI.Photon import llm_api\n",
    "\n",
    "\n",
    "class ComponentsResponse(BaseModel):\n",
    "    single_article: bool\n",
    "    topic_photonic: bool\n",
    "    components_list: list[str]\n",
    "\n",
    "\n",
    "df = pd.read_parquet(\"db/AMF_papers.parquet\")\n",
    "df[\"single_article\"] = None\n",
    "df[\"topic_photonic\"] = None\n",
    "df[\"components_list\"] = None\n",
    "\n",
    "sys_prompt1 = \"\"\"Is this a single academic article, and not a dissertation or collection of papers (single_article)?\n",
    "Is the main topic of this article about integrated photonic circuits (topic_photonic)?\n",
    "If yes, find the photonic components that are used on the chip.\n",
    "Return a concise list of these photonic components, if any (components_list).\n",
    "\"\"\"\n",
    "\n",
    "for idx, row in df.iterrows():\n",
    "    if row[\"N_pages\"] < 20:\n",
    "        print(idx, \"=======================================\")\n",
    "        r = llm_api.callgpt_pydantic(row[\"text_full\"], sys_prompt1, ComponentsResponse)\n",
    "        print(yaml.dump(r.dict()))\n",
    "        df.at[idx, \"single_article\"] = r.single_article\n",
    "        df.at[idx, \"topic_photonic\"] = r.topic_photonic\n",
    "        df.at[idx, \"components_list\"] = r.components_list\n",
    "\n",
    "        # df.to_parquet('db/AMF_papers.parquet')"
   ]
  },
  {
   "cell_type": "code",
   "execution_count": null,
   "metadata": {},
   "outputs": [],
   "source": [
    "df.head()"
   ]
  },
  {
   "cell_type": "code",
   "execution_count": null,
   "metadata": {},
   "outputs": [],
   "source": [
    "all_comp_list = df[\"components_list\"].dropna().explode().value_counts()\n",
    "print(len(all_comp_list))\n",
    "\n",
    "item_counts_df = all_comp_list.reset_index(name=\"count\")\n",
    "\n",
    "print(item_counts_df[100:150])"
   ]
  },
  {
   "cell_type": "code",
   "execution_count": null,
   "metadata": {},
   "outputs": [],
   "source": [
    "(clustered_sentences[12])"
   ]
  },
  {
   "cell_type": "code",
   "execution_count": null,
   "metadata": {},
   "outputs": [],
   "source": [
    "import sys\n",
    "\n",
    "sys.path.append(\"C:/Users/vansari/Documents/PhotonicAI\")\n",
    "import pandas as pd\n",
    "from langchain_openai import OpenAIEmbeddings\n",
    "\n",
    "from PhotonicsAI.Photon import llm_api\n",
    "\n",
    "embeddings_model = OpenAIEmbeddings()\n",
    "\n",
    "\n",
    "df = pd.read_parquet(\"db/AMF_papers.parquet\")\n",
    "corpus = df[\"components_list\"].dropna().explode().to_list()\n",
    "corpus = [item.strip() for item in corpus if isinstance(item, str) and item.strip()]\n",
    "\n",
    "corpus_embeddings = embeddings_model.embed_documents(corpus)\n",
    "\n",
    "print(len(corpus_embeddings))\n",
    "print(corpus_embeddings[0])"
   ]
  },
  {
   "cell_type": "code",
   "execution_count": null,
   "metadata": {},
   "outputs": [],
   "source": []
  },
  {
   "cell_type": "code",
   "execution_count": null,
   "metadata": {},
   "outputs": [],
   "source": [
    "from sklearn.cluster import AgglomerativeClustering\n",
    "\n",
    "# embedder = SentenceTransformer(\"all-mpnet-base-v2\") # 203\n",
    "\n",
    "# corpus = df['components_list'].dropna().explode().to_list()\n",
    "# corpus_embeddings = embedder.encode(corpus)\n",
    "\n",
    "# Perform agglomerative clustering\n",
    "clustering_model = AgglomerativeClustering(n_clusters=None, distance_threshold=1.5)\n",
    "clustering_model.fit(corpus_embeddings)\n",
    "cluster_assignment = clustering_model.labels_\n",
    "\n",
    "corpus_clustered = {}\n",
    "for sentence_id, cluster_id in enumerate(cluster_assignment):\n",
    "    if cluster_id not in corpus_clustered:\n",
    "        corpus_clustered[cluster_id] = []\n",
    "\n",
    "    corpus_clustered[cluster_id].append(corpus[sentence_id])\n",
    "\n",
    "# for i, cluster in corpus_clustered.items():\n",
    "#     print(\"Cluster \", i + 1)\n",
    "#     print(cluster)\n",
    "#     print(\"\")\n",
    "\n",
    "print(\"===============\")\n",
    "print(len(corpus_clustered))"
   ]
  },
  {
   "cell_type": "code",
   "execution_count": null,
   "metadata": {},
   "outputs": [],
   "source": [
    "from sklearn.decomposition import PCA\n",
    "\n",
    "%matplotlib inline\n",
    "\n",
    "# Reduce dimensionality to 2D using PCA\n",
    "pca = PCA(n_components=2)\n",
    "embeddings_2d = pca.fit_transform(corpus_embeddings)\n",
    "\n",
    "# Plot the PCA result with cluster assignments\n",
    "plt.figure(figsize=(10, 8))\n",
    "scatter = plt.scatter(\n",
    "    embeddings_2d[:, 0], embeddings_2d[:, 1], c=cluster_assignment, cmap=\"viridis\"\n",
    ")\n",
    "\n",
    "# Add a legend and title\n",
    "plt.colorbar(scatter)\n",
    "plt.title(\"PCA visualization of clusters\")\n",
    "plt.show()"
   ]
  },
  {
   "cell_type": "code",
   "execution_count": null,
   "metadata": {},
   "outputs": [],
   "source": [
    "import numpy as np\n",
    "from sklearn.manifold import TSNE\n",
    "\n",
    "# Convert corpus_embeddings to a NumPy array if it's not already\n",
    "corpus_embeddings = np.array(corpus_embeddings)\n",
    "\n",
    "# Perform t-SNE to reduce embeddings to 2D\n",
    "tsne = TSNE(n_components=2, random_state=42)\n",
    "embeddings_2d = tsne.fit_transform(corpus_embeddings)\n",
    "\n",
    "# Now, you can plot as before\n",
    "import matplotlib.pyplot as plt\n",
    "\n",
    "plt.figure(figsize=(10, 8))\n",
    "scatter = plt.scatter(\n",
    "    embeddings_2d[:, 0], embeddings_2d[:, 1], c=cluster_assignment, cmap=\"viridis\"\n",
    ")\n",
    "plt.colorbar(scatter)\n",
    "plt.title(\"t-SNE visualization of clusters\")\n",
    "plt.show()"
   ]
  },
  {
   "cell_type": "code",
   "execution_count": null,
   "metadata": {},
   "outputs": [],
   "source": [
    "import ast\n",
    "\n",
    "sys_prompt = \"\"\"This is a list of photonic components.\n",
    "Some of them are similar or synonymous.\n",
    "Collapse all synonymous or redundant components into a single phrase.\n",
    "Return only a valid Python list of strings with no additional text or formatting (like python quotes).\n",
    "\"\"\"\n",
    "\n",
    "corpus_clustered_distilled = {}\n",
    "\n",
    "for i, cluster in corpus_clustered.items():\n",
    "    print(\"===========\", i)\n",
    "    r = llm_api.call_openai(str(cluster), sys_prompt=sys_prompt, model=\"gpt-4o\")\n",
    "    # print(cluster)\n",
    "    # print()\n",
    "    # print(r)\n",
    "    corpus_clustered_distilled[i] = ast.literal_eval(r.replace(\"–\", \"-\"))\n",
    "    print(len(cluster), len(ast.literal_eval(r)))\n",
    "    print()"
   ]
  },
  {
   "cell_type": "code",
   "execution_count": null,
   "metadata": {},
   "outputs": [],
   "source": [
    "import copy\n",
    "\n",
    "dis_ = copy.deepcopy(corpus_clustered_distilled)\n",
    "max_len = max(len(lst) for lst in dis_.values())\n",
    "for key, lst in dis_.items():\n",
    "    if len(lst) < max_len:\n",
    "        dis_[key] = lst + [None] * (max_len - len(lst))\n",
    "\n",
    "df = pd.DataFrame(dis_)\n",
    "df.to_csv(\"db/corpus_clustered_distilled.csv\", index=False)"
   ]
  },
  {
   "cell_type": "code",
   "execution_count": null,
   "metadata": {},
   "outputs": [],
   "source": []
  },
  {
   "cell_type": "code",
   "execution_count": null,
   "metadata": {},
   "outputs": [],
   "source": []
  },
  {
   "cell_type": "code",
   "execution_count": null,
   "metadata": {},
   "outputs": [],
   "source": []
  },
  {
   "cell_type": "code",
   "execution_count": null,
   "metadata": {},
   "outputs": [],
   "source": [
    "import pickle\n",
    "\n",
    "data = {}\n",
    "data[\"corpus\"] = corpus\n",
    "data[\"corpus_embeddings\"] = corpus_embeddings\n",
    "data[\"corpus_clustered\"] = corpus_clustered\n",
    "data[\"corpus_clustered_distilled\"] = corpus_clustered_distilled\n",
    "\n",
    "with open(\"db/AMF_components.pkl\", \"wb\") as f:\n",
    "    pickle.dump(data, f)\n",
    "\n",
    "# with open('db/AMF_components.pkl', 'rb') as f:\n",
    "# data = pickle.load(f)"
   ]
  },
  {
   "cell_type": "code",
   "execution_count": null,
   "metadata": {},
   "outputs": [],
   "source": [
    "import pickle\n",
    "\n",
    "with open(\"db/AMF_components.pkl\", \"rb\") as f:\n",
    "    data = pickle.load(f)\n",
    "\n",
    "for key, value in data.items():\n",
    "    locals()[key] = value\n",
    "\n",
    "# for i in corpus:\n",
    "#     print(i)"
   ]
  },
  {
   "cell_type": "code",
   "execution_count": null,
   "metadata": {},
   "outputs": [],
   "source": []
  }
 ],
 "metadata": {
  "kernelspec": {
   "display_name": "PhotonEnv",
   "language": "python",
   "name": "python3"
  },
  "language_info": {
   "codemirror_mode": {
    "name": "ipython",
    "version": 3
   },
   "file_extension": ".py",
   "mimetype": "text/x-python",
   "name": "python",
   "nbconvert_exporter": "python",
   "pygments_lexer": "ipython3",
   "version": "3.11.6"
  }
 },
 "nbformat": 4,
 "nbformat_minor": 2
}
