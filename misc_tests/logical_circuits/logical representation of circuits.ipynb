{
 "cells": [
  {
   "cell_type": "markdown",
   "id": "0",
   "metadata": {},
   "source": [
    "# 1- Gdsfactory schematic\n",
    "https://gdsfactory.github.io/gdsfactory/notebooks/10_schematic.html\n",
    "\n",
    "it uses Networkx\n",
    "\n",
    "❌ it needs manual position setting for each component"
   ]
  },
  {
   "cell_type": "code",
   "execution_count": null,
   "id": "1",
   "metadata": {},
   "outputs": [],
   "source": [
    "import gdsfactory as gf\n",
    "import gdsfactory.typings as gt\n",
    "\n",
    "s = gt.Schematic()\n",
    "s.add_instance(\"s11\", gt.Instance(component=gf.c.mmi1x2()))\n",
    "s.add_instance(\"s21\", gt.Instance(component=gf.c.mmi1x2()))\n",
    "s.add_instance(\"s22\", gt.Instance(component=gf.c.mmi1x2()))\n",
    "s.add_placement(\"s11\", gt.Placement(x=0))\n",
    "s.add_placement(\"s21\", gt.Placement(x=10, y=+10))\n",
    "s.add_placement(\"s22\", gt.Placement(x=10, y=-10))\n",
    "s.add_net(gt.Net(ip1=\"s11,o2\", ip2=\"s21,o1\"))\n",
    "s.add_net(gt.Net(ip1=\"s11,o3\", ip2=\"s22,o1\"))\n",
    "g = s.plot_netlist()"
   ]
  },
  {
   "cell_type": "markdown",
   "id": "2",
   "metadata": {},
   "source": [
    "# 2- Gplugins schematic\n",
    "https://gdsfactory.github.io/gplugins/notebooks/20_schematic_driven_layout.html\n",
    "\n",
    "provides an interactive web interface. this can be used to drag components around to set their placement. \n",
    "\n",
    "❌ not abstract"
   ]
  },
  {
   "cell_type": "code",
   "execution_count": null,
   "id": "3",
   "metadata": {},
   "outputs": [],
   "source": [
    "import gdsfactory as gf\n",
    "from bokeh.io import output_notebook\n",
    "from gplugins.schematic_editor import SchematicEditor\n",
    "\n",
    "gf.config.rich_output()\n",
    "\n",
    "%env BOKEH_ALLOW_WS_ORIGIN=*\n",
    "\n",
    "output_notebook()\n",
    "\n",
    "se = SchematicEditor(\"test.yml\")\n",
    "\n",
    "se.instance_widget"
   ]
  },
  {
   "cell_type": "code",
   "execution_count": null,
   "id": "4",
   "metadata": {},
   "outputs": [],
   "source": [
    "se.instances.keys()"
   ]
  },
  {
   "cell_type": "code",
   "execution_count": null,
   "id": "5",
   "metadata": {},
   "outputs": [],
   "source": [
    "se.instances[\"mmi1\"].settings"
   ]
  },
  {
   "cell_type": "code",
   "execution_count": null,
   "id": "6",
   "metadata": {},
   "outputs": [],
   "source": [
    "se.add_net(inst1=\"mmi1\", port1=\"o2\", inst2=\"s1\", port2=\"o1\")\n",
    "se.add_net(inst1=\"mmi2\", port1=\"o2\", inst2=\"s1\", port2=\"o2\")\n",
    "se.add_net(inst1=\"mmi1\", port1=\"o3\", inst2=\"s2\", port2=\"o1\")\n",
    "se.add_net(inst1=\"mmi2\", port1=\"o1\", inst2=\"s2\", port2=\"o2\")\n",
    "se.schematic"
   ]
  },
  {
   "cell_type": "code",
   "execution_count": null,
   "id": "7",
   "metadata": {},
   "outputs": [],
   "source": [
    "se.visualize()"
   ]
  },
  {
   "cell_type": "code",
   "execution_count": null,
   "id": "8",
   "metadata": {},
   "outputs": [],
   "source": []
  },
  {
   "cell_type": "markdown",
   "id": "9",
   "metadata": {},
   "source": [
    "# 3- Networkx"
   ]
  },
  {
   "cell_type": "code",
   "execution_count": null,
   "id": "10",
   "metadata": {},
   "outputs": [],
   "source": [
    "import networkx as nx\n",
    "\n",
    "# Create a new graph\n",
    "G = nx.Graph()\n",
    "\n",
    "# Add nodes with attributes\n",
    "G.add_node(\"Laser\", function=\"Source\")\n",
    "G.add_node(\"BeamSplitter\", function=\"Splitter\")\n",
    "G.add_node(\"Detector1\", function=\"Detector\")\n",
    "G.add_node(\"Detector2\", function=\"Detector\")\n",
    "\n",
    "# Connect nodes with edges\n",
    "G.add_edge(\"Laser\", \"BeamSplitter\")\n",
    "G.add_edge(\"BeamSplitter\", \"Detector1\")\n",
    "G.add_edge(\"BeamSplitter\", \"Detector2\")\n",
    "\n",
    "# Draw the graph\n",
    "pos = nx.spring_layout(G)  # positions for all nodes\n",
    "nx.draw(\n",
    "    G,\n",
    "    pos,\n",
    "    with_labels=True,\n",
    "    node_size=2000,\n",
    "    node_color=\"skyblue\",\n",
    "    font_size=10,\n",
    "    font_weight=\"bold\",\n",
    ")\n",
    "\n",
    "# labels = nx.get_node_attributes(G, 'function')\n",
    "# nx.draw_networkx_labels(G, pos, labels=labels)"
   ]
  },
  {
   "cell_type": "markdown",
   "id": "11",
   "metadata": {},
   "source": [
    "# Networkx and unconnected ports\n",
    "\n",
    "we can add pseudo-nodes to visualize unconnected ports"
   ]
  },
  {
   "cell_type": "code",
   "execution_count": null,
   "id": "12",
   "metadata": {},
   "outputs": [],
   "source": [
    "import networkx as nx\n",
    "\n",
    "\n",
    "# Helper function to add pseudo-nodes for unconnected ports\n",
    "def add_pseudo_nodes(graph):\n",
    "    for node, data in list(graph.nodes(data=True)):\n",
    "        if \"total_ports\" in data:  # Ensure we are dealing with main nodes\n",
    "            total_ports = data[\"total_ports\"]\n",
    "            connected_ports = len(data[\"connected_ports\"])\n",
    "            for i in range(total_ports - connected_ports):\n",
    "                pseudo_node = f\"{node}_port{i+1}\"\n",
    "                graph.add_node(pseudo_node, pseudo=True)\n",
    "                graph.add_edge(node, pseudo_node)\n",
    "\n",
    "\n",
    "# Function to draw the graph\n",
    "def draw_graph(graph):\n",
    "    add_pseudo_nodes(graph)\n",
    "    pos = nx.spring_layout(graph)  # Layout for visual consistency\n",
    "\n",
    "    # Separate the nodes by type\n",
    "    main_nodes = [\n",
    "        node for node, attr in graph.nodes(data=True) if not attr.get(\"pseudo\", False)\n",
    "    ]\n",
    "    pseudo_nodes = [\n",
    "        node for node, attr in graph.nodes(data=True) if attr.get(\"pseudo\", False)\n",
    "    ]\n",
    "\n",
    "    # Draw main nodes\n",
    "    nx.draw_networkx_nodes(\n",
    "        graph,\n",
    "        pos,\n",
    "        nodelist=main_nodes,\n",
    "        node_size=2000,\n",
    "        node_color=\"skyblue\",\n",
    "        label=\"Main Nodes\",\n",
    "    )\n",
    "    # Draw pseudo-nodes\n",
    "    nx.draw_networkx_nodes(\n",
    "        graph,\n",
    "        pos,\n",
    "        nodelist=pseudo_nodes,\n",
    "        node_size=1000,\n",
    "        node_color=\"lightgrey\",\n",
    "        label=\"Pseudo Nodes\",\n",
    "    )\n",
    "\n",
    "    # Draw edges\n",
    "    nx.draw_networkx_edges(graph, pos)\n",
    "\n",
    "    # Draw node labels\n",
    "    labels = {node: node for node in main_nodes}\n",
    "    nx.draw_networkx_labels(graph, pos, labels, font_size=12)\n",
    "\n",
    "    # Show legend\n",
    "    # plt.legend(scatterpoints=1)\n",
    "    # plt.show()\n",
    "\n",
    "\n",
    "# Sample usage with your defined graph\n",
    "G = nx.Graph()\n",
    "\n",
    "# Add nodes with a 'total_ports' attribute\n",
    "nodes_with_ports = {\"Laser\": 2, \"BeamSplitter\": 3, \"Detector1\": 1, \"Detector2\": 1}\n",
    "\n",
    "for node, ports in nodes_with_ports.items():\n",
    "    G.add_node(node, total_ports=ports, connected_ports=[])\n",
    "\n",
    "# Connect some nodes with edges and record the connections\n",
    "connections = [\n",
    "    (\"Laser\", \"BeamSplitter\"),\n",
    "    (\"BeamSplitter\", \"Detector1\"),\n",
    "    (\"BeamSplitter\", \"Detector2\"),\n",
    "]\n",
    "\n",
    "for src, dest in connections:\n",
    "    G.nodes[src][\"connected_ports\"].append(dest)\n",
    "    G.nodes[dest][\"connected_ports\"].append(src)\n",
    "    G.add_edge(src, dest)\n",
    "\n",
    "draw_graph(G)"
   ]
  },
  {
   "cell_type": "markdown",
   "id": "13",
   "metadata": {},
   "source": [
    "# Customized Gdsfactory schematic\n",
    "\n",
    "calling nx.spring_layout to automatically place the nodes."
   ]
  },
  {
   "cell_type": "code",
   "execution_count": null,
   "id": "14",
   "metadata": {},
   "outputs": [],
   "source": [
    "import CustomizedTypings as tt\n",
    "import gdsfactory as gf\n",
    "\n",
    "s = tt.Schematic()\n",
    "s.add_instance(\"splitter1\", tt.Instance(component=gf.c.mmi1x2()))\n",
    "s.add_instance(\"wg1\", tt.Instance(component=gf.c.straight()))\n",
    "s.add_instance(\"splitter2\", tt.Instance(component=gf.c.mmi1x2()))\n",
    "s.add_net(tt.Net(ip1=\"splitter1,o2\", ip2=\"wg1,o1\"))\n",
    "s.add_net(tt.Net(ip1=\"wg1,o2\", ip2=\"splitter2,o2\"))\n",
    "s.add_net(tt.Net(ip1=\"splitter1,o3\", ip2=\"splitter2,o3\"))\n",
    "g = s.plot_netlist()"
   ]
  },
  {
   "cell_type": "markdown",
   "id": "15",
   "metadata": {},
   "source": [
    "# Graphviz"
   ]
  },
  {
   "cell_type": "code",
   "execution_count": null,
   "id": "16",
   "metadata": {},
   "outputs": [],
   "source": [
    "import pygraphviz as pgv\n",
    "from IPython.display import Image\n",
    "\n",
    "# Create a directed graph\n",
    "G = pgv.AGraph(strict=False, directed=False)\n",
    "\n",
    "# Add nodes\n",
    "G.add_node(\"Laser\", shape=\"star\")\n",
    "G.add_node(\"BeamSplitter\", shape=\"box\")\n",
    "G.add_node(\"Detector1\", shape=\"invtriangle\")\n",
    "G.add_node(\"Detector2\", shape=\"egg\")\n",
    "\n",
    "# Define ports with specific positions on the node's boundary\n",
    "G.add_edge(\"Laser\", \"BeamSplitter\", headport=\"n\", tailport=\"n\")\n",
    "G.add_edge(\"BeamSplitter\", \"Detector1\", headport=\"ne\", tailport=\"e\")\n",
    "G.add_edge(\"BeamSplitter\", \"Detector2\", headport=\"sw\", tailport=\"w\")\n",
    "\n",
    "# Render the graph\n",
    "G.draw(\"graph.png\", format=\"png\", prog=\"dot\")\n",
    "# G.write(\"file.dot\")\n",
    "print(G.string())\n",
    "Image(filename=\"graph.png\")"
   ]
  },
  {
   "cell_type": "code",
   "execution_count": null,
   "id": "17",
   "metadata": {},
   "outputs": [],
   "source": []
  }
 ],
 "metadata": {
  "kernelspec": {
   "display_name": "Python (myenv1)",
   "language": "python",
   "name": "myenv1"
  },
  "language_info": {
   "codemirror_mode": {
    "name": "ipython",
    "version": 3
   },
   "file_extension": ".py",
   "mimetype": "text/x-python",
   "name": "python",
   "nbconvert_exporter": "python",
   "pygments_lexer": "ipython3",
   "version": "3.11.6"
  }
 },
 "nbformat": 4,
 "nbformat_minor": 5
}
