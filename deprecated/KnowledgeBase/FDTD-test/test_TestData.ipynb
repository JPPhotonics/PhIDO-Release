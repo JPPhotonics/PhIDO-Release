{
 "cells": [
  {
   "cell_type": "markdown",
   "id": "0",
   "metadata": {},
   "source": [
    "Gdsfactory follows the Sparameters syntax o1@0,o2@0 where o1 is the input port @0 mode 0 (usually fundamental TE mode) and o2@0 refers to output port o2 mode 0."
   ]
  },
  {
   "cell_type": "code",
   "execution_count": null,
   "id": "1",
   "metadata": {},
   "outputs": [],
   "source": [
    "!pwd"
   ]
  },
  {
   "cell_type": "code",
   "execution_count": null,
   "id": "2",
   "metadata": {},
   "outputs": [],
   "source": [
    "import matplotlib.pyplot as plt\n",
    "import numpy as np\n",
    "\n",
    "data = np.load(\"../nodes_dummy/mmi1x2/mmi1x2_44de1dda.npz\")\n",
    "print(list(data.keys()))\n",
    "# updated_data = {k: np.array([x.real + 2 * x.imag * 1j for x in v]) if np.iscomplexobj(v) else v for k, v in data.items()}\n",
    "# 'o1@0,o1@0': array([-0.01500151-2.09345464e-05j, -0.01496329-2.19790907e-05j,\n",
    "print({key: data[key] for key in data})"
   ]
  },
  {
   "cell_type": "code",
   "execution_count": null,
   "id": "3",
   "metadata": {},
   "outputs": [],
   "source": [
    "wl = data[\"wavelengths\"]\n",
    "S21 = data[\"o1@0,o2@0\"]\n",
    "S31 = data[\"o1@0,o3@0\"]\n",
    "# S41 = data['o1@0,o4@0']\n",
    "\n",
    "plt.figure(figsize=(10, 2))\n",
    "plt.subplot(121)\n",
    "plt.plot(wl, np.abs(S21**2), \".-\")\n",
    "plt.plot(wl, np.abs(S31) ** 2, \".-\")\n",
    "plt.subplot(122)\n",
    "plt.plot(wl, np.unwrap(np.angle(S21)))\n",
    "# plt.plot(wl, np.abs(S41)**2, '.-')"
   ]
  },
  {
   "cell_type": "code",
   "execution_count": null,
   "id": "4",
   "metadata": {},
   "outputs": [],
   "source": []
  },
  {
   "cell_type": "code",
   "execution_count": null,
   "id": "5",
   "metadata": {},
   "outputs": [],
   "source": [
    "import glob\n",
    "\n",
    "import matplotlib.pyplot as plt\n",
    "import numpy as np\n",
    "\n",
    "pattern = \"./gdsfactory-test-data-main/sp/straight_*.npz\"\n",
    "npz_files = glob.glob(pattern)\n",
    "\n",
    "for f in npz_files:\n",
    "    try:\n",
    "        data = np.load(f)\n",
    "        # print(list(data.keys()))\n",
    "\n",
    "        wl = data[\"wavelengths\"]\n",
    "        S21 = data[\"o1@0,o2@0\"]\n",
    "        # S31 = data['o1@0,o3@0']\n",
    "        # S41 = data['o1@0,o4@0']\n",
    "\n",
    "        plt.figure(figsize=(10, 2))\n",
    "        plt.subplot(121)\n",
    "        plt.plot(wl, np.abs(S21**2), \".-\")\n",
    "        plt.subplot(122)\n",
    "        plt.plot(wl, np.unwrap(np.angle(S21)))\n",
    "        # plt.plot(wl, np.abs(S31)**2, '.-')\n",
    "        # plt.plot(wl, np.abs(S41)**2, '.-')\n",
    "        plt.savefig(f.split(\".npz\")[0] + \".png\")\n",
    "        plt.close()\n",
    "    except:\n",
    "        print(\"ERROR ==>\", f)\n",
    "        pass"
   ]
  },
  {
   "cell_type": "code",
   "execution_count": null,
   "id": "6",
   "metadata": {},
   "outputs": [],
   "source": []
  }
 ],
 "metadata": {
  "kernelspec": {
   "display_name": "Python 3 (ipykernel)",
   "language": "python",
   "name": "python3"
  },
  "language_info": {
   "codemirror_mode": {
    "name": "ipython",
    "version": 3
   },
   "file_extension": ".py",
   "mimetype": "text/x-python",
   "name": "python",
   "nbconvert_exporter": "python",
   "pygments_lexer": "ipython3",
   "version": "3.11.6"
  }
 },
 "nbformat": 4,
 "nbformat_minor": 5
}
