{
 "cells": [
  {
   "cell_type": "markdown",
   "metadata": {},
   "source": [
    "# Database: import a circuit"
   ]
  },
  {
   "cell_type": "code",
   "execution_count": null,
   "metadata": {},
   "outputs": [],
   "source": [
    "import sys\n",
    "from pprint import pprint\n",
    "\n",
    "sys.path.append(\"D:/vahid\")\n",
    "import matplotlib.pyplot as plt\n",
    "import numpy as np\n",
    "import sax\n",
    "from gdsfactory.quickplotter import quickplot\n",
    "\n",
    "from PhotonicsAI.KnowledgeBase.Circuits.mzi1 import mzi1\n",
    "\n",
    "c = mzi1(config={\"fsr\": 0.015, \"dy\": 50, \"coupling1\": 0.1, \"coupling2\": 0.5})\n",
    "\n",
    "print(c.component)\n",
    "print(c.config)\n",
    "print(c.model)\n",
    "quickplot(c.component)\n",
    "plt.show()\n",
    "\n",
    "\n",
    "recnet = sax.RecursiveNetlist.parse_obj(c.component.get_netlist_recursive())\n",
    "print(\"Required Models ==>\", sax.get_required_circuit_models(recnet))\n",
    "\n",
    "_c, info = sax.circuit(recnet, c.model)\n",
    "pprint(_c(wl=1.55))\n",
    "# print( np.abs(_c(wl = 1.35)['o1','o2'])**2 )\n",
    "wl = np.linspace(1.26, 1.36, 500)\n",
    "S41 = _c(wl=wl)[\"o1\", \"o4\"]\n",
    "S31 = _c(wl=wl)[\"o1\", \"o3\"]\n",
    "# S42 = (_c(wl = wl)['o2','o4'])\n",
    "# S32 = (_c(wl = wl)['o2','o3'])\n",
    "plt.plot(wl, np.abs(S41) ** 2)\n",
    "plt.plot(wl, np.abs(S31) ** 2)\n",
    "# plt.plot(wl, np.abs(S42)**2)\n",
    "# plt.plot(wl, np.abs(S32)**2)\n",
    "# plt.show()"
   ]
  },
  {
   "cell_type": "code",
   "execution_count": null,
   "metadata": {},
   "outputs": [],
   "source": [
    "pprint(c.component.get_netlist())"
   ]
  },
  {
   "cell_type": "code",
   "execution_count": null,
   "metadata": {},
   "outputs": [],
   "source": [
    "pprint(c.component.to_yaml())"
   ]
  },
  {
   "cell_type": "code",
   "execution_count": null,
   "metadata": {},
   "outputs": [],
   "source": []
  }
 ],
 "metadata": {
  "kernelspec": {
   "display_name": "PhotonEnv",
   "language": "python",
   "name": "python3"
  },
  "language_info": {
   "codemirror_mode": {
    "name": "ipython",
    "version": 3
   },
   "file_extension": ".py",
   "mimetype": "text/x-python",
   "name": "python",
   "nbconvert_exporter": "python",
   "pygments_lexer": "ipython3",
   "version": "3.11.7"
  }
 },
 "nbformat": 4,
 "nbformat_minor": 2
}
