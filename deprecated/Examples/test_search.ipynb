{
 "cells": [
  {
   "cell_type": "markdown",
   "metadata": {},
   "source": [
    "# Database: items and their properties"
   ]
  },
  {
   "cell_type": "code",
   "execution_count": null,
   "metadata": {},
   "outputs": [],
   "source": [
    "import sys\n",
    "from pprint import pprint\n",
    "\n",
    "sys.path.append(\"D:/vahid\")\n",
    "import numpy as np\n",
    "import pandas as pd\n",
    "\n",
    "from PhotonicsAI.Photon import semantic_similarity, utils\n",
    "\n",
    "db_docs = utils.search_directory_for_docstrings()\n",
    "# pprint(db_docs)\n",
    "for item in db_docs:\n",
    "    pprint(item, width=140)\n",
    "    print(\"=\" * 80)"
   ]
  },
  {
   "cell_type": "markdown",
   "metadata": {},
   "source": [
    "# Query "
   ]
  },
  {
   "cell_type": "code",
   "execution_count": null,
   "metadata": {},
   "outputs": [],
   "source": [
    "list_of_desc = [i[\"Description\"] for i in db_docs]\n",
    "\n",
    "# user_input = 'filter at 900 nm'\n",
    "# user_input = 'give me a design for a valid sbend at 1310nm'\n",
    "user_input = \"s-bend at 1310nm\"\n",
    "\n",
    "i, s = semantic_similarity.dragon(user_input, list_of_desc)\n",
    "ii, ss = semantic_similarity.bm25(user_input, list_of_desc)\n",
    "final_i, final_s = semantic_similarity.combine_scores([s, ss])\n",
    "\n",
    "sorted_db = np.array(db_docs)[final_i]\n",
    "sorted_names = [db_docs[i][\"Name\"] for i in final_i]\n",
    "\n",
    "\n",
    "pd.set_option(\"display.precision\", 4)\n",
    "df = pd.DataFrame({\"Name\": sorted_names, \"dragon\": s, \"bm25\": ss, \"combined\": final_s})\n",
    "\n",
    "sorted_df = df.sort_values(by=\"combined\", ascending=False)\n",
    "print(sorted_df.to_string(index=False))"
   ]
  },
  {
   "cell_type": "code",
   "execution_count": null,
   "metadata": {},
   "outputs": [],
   "source": []
  }
 ],
 "metadata": {
  "kernelspec": {
   "display_name": "PhotonEnv",
   "language": "python",
   "name": "python3"
  },
  "language_info": {
   "codemirror_mode": {
    "name": "ipython",
    "version": 3
   },
   "file_extension": ".py",
   "mimetype": "text/x-python",
   "name": "python",
   "nbconvert_exporter": "python",
   "pygments_lexer": "ipython3",
   "version": "3.11.7"
  }
 },
 "nbformat": 4,
 "nbformat_minor": 2
}
