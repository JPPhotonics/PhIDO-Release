{
 "cells": [
  {
   "cell_type": "code",
   "execution_count": null,
   "metadata": {},
   "outputs": [],
   "source": [
    "from pprint import pprint\n",
    "\n",
    "import requests\n",
    "\n",
    "url = \"https://api.semanticscholar.org/graph/v1/paper/search\"\n",
    "headers = {\"x-api-key\": \"HHO4L9SbI3aQfdd6dxl0f9ELXunCGd5x84rE80Lw\"}\n",
    "\n",
    "\n",
    "# query = 'integrated silicon photonics transceiver'\n",
    "# query = '400G-FR4 silicon photonics transceiver'\n",
    "# query = '400G Silicon Photonics Transceiver'\n",
    "# query = '400G-FR4'\n",
    "query = \"integrated photonic switch network\"\n",
    "\n",
    "# Define the required query parameter and its value (in this case, the keyword we want to search for)\n",
    "query_params = {\n",
    "    \"query\": query,\n",
    "    \"fieldsOfStudy\": \"Physics,Engineering\",\n",
    "    \"fields\": \"title,abstract,year,url,citationCount,influentialCitationCount,isOpenAccess,openAccessPdf,venue,externalIds\",  # ,citations,references\n",
    "    \"minCitationCount\": 1,\n",
    "    #  'openAccessPdf': '', # limits to public pdf papers\n",
    "    \"limit\": 3,  # max returned papers is 100 in search\n",
    "}\n",
    "\n",
    "# Make the GET request with the URL and query parameters\n",
    "searchResponse = requests.get(url, params=query_params, headers=headers)\n",
    "\n",
    "\n",
    "# Check response status\n",
    "if searchResponse.status_code == 200:\n",
    "    response_data = searchResponse.json()\n",
    "    # Process and print the response data as needed\n",
    "    pprint(response_data)\n",
    "else:\n",
    "    print(\n",
    "        f\"Request failed with status code {searchResponse.status_code}: {searchResponse.text}\"\n",
    "    )"
   ]
  },
  {
   "cell_type": "code",
   "execution_count": null,
   "metadata": {},
   "outputs": [],
   "source": [
    "r = requests.post(\n",
    "    \"https://api.semanticscholar.org/graph/v1/paper/batch\",\n",
    "    params={\"fields\": \"referenceCount,citationCount,title\"},\n",
    "    json={\"ids\": [\"649def34f8be52c8b66281af98ae884c09aef38b\", \"ARXIV:2106.15928\"]},\n",
    ")\n",
    "# print(json.dumps(r.json(), indent=2))\n",
    "print(r.json())"
   ]
  },
  {
   "cell_type": "code",
   "execution_count": null,
   "metadata": {},
   "outputs": [],
   "source": [
    "def get_paper_data(paper_id):\n",
    "    url = \"https://api.semanticscholar.org/graph/v1/paper/\" + paper_id\n",
    "\n",
    "    # Define which details about the paper you would like to receive in the response\n",
    "    paper_data_query_params = {\"fields\": \"title,year,abstract,authors.name\"}\n",
    "\n",
    "    # Send the API request and store the response in a variable\n",
    "    response = requests.get(url, params=paper_data_query_params)\n",
    "    if response.status_code == 200:\n",
    "        return response.json()\n",
    "    else:\n",
    "        return None\n",
    "\n",
    "\n",
    "get_paper_data(\"d83c8d0df8ec1acd746b349e50c6a1777ff97077\")"
   ]
  },
  {
   "cell_type": "code",
   "execution_count": null,
   "metadata": {},
   "outputs": [],
   "source": []
  },
  {
   "cell_type": "markdown",
   "metadata": {},
   "source": [
    "search [switch network]\n",
    "- limit to integrated photonics, etc\n",
    "    - found x articles\n",
    "    - x' influential papers\n",
    "    - x'' influential papers in all of physics and math\n",
    "\n",
    "select a few?\n",
    "\n",
    "get full text, pdf?\n",
    "\n",
    "read\n",
    "- read some of them,\n",
    "- read some of the citations? how to select? relevant to topology etc\n",
    "\n",
    "report\n",
    "- ideas vs years\n",
    "- circuit topologies\n",
    "- ideas\n",
    "- specs\n",
    "- "
   ]
  }
 ],
 "metadata": {
  "kernelspec": {
   "display_name": "PhotonEnv",
   "language": "python",
   "name": "python3"
  },
  "language_info": {
   "codemirror_mode": {
    "name": "ipython",
    "version": 3
   },
   "file_extension": ".py",
   "mimetype": "text/x-python",
   "name": "python",
   "nbconvert_exporter": "python",
   "pygments_lexer": "ipython3",
   "version": "3.12.5"
  }
 },
 "nbformat": 4,
 "nbformat_minor": 2
}
