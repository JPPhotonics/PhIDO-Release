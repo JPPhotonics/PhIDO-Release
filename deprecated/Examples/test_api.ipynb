{
 "cells": [
  {
   "cell_type": "code",
   "execution_count": null,
   "metadata": {},
   "outputs": [],
   "source": [
    "import ast\n",
    "import base64\n",
    "import pickle\n",
    "\n",
    "import requests\n",
    "from pydantic import BaseModel, HttpUrl\n",
    "\n",
    "\n",
    "class InputData(BaseModel):\n",
    "    text: str = \"Default input text\"\n",
    "    parameter1: int = 0\n",
    "    parameter2: bool = False\n",
    "\n",
    "\n",
    "class PhotonClient:\n",
    "    DEFAULT_URL = \"http://localhost/photonapi\"\n",
    "\n",
    "    def __init__(self, api_key: str, url: HttpUrl | None = None):\n",
    "        self.api_key = api_key\n",
    "        self.url = url if url is not None else HttpUrl(self.DEFAULT_URL)\n",
    "        self.headers = {\"key\": self.api_key, \"Content-Type\": \"application/json\"}\n",
    "\n",
    "    @staticmethod\n",
    "    def parse_sse(response):\n",
    "        \"\"\"Parse Server-Sent Events from a response.\"\"\"\n",
    "        for line in response.iter_lines():\n",
    "            if line:\n",
    "                line = line.decode(\"utf-8\")\n",
    "                if line.startswith(\"data: \"):\n",
    "                    yield line[6:]  # Remove 'data: ' prefix\n",
    "\n",
    "    def run(self, input_data: InputData | None = None):\n",
    "        if input_data is None:\n",
    "            input_data = InputData()\n",
    "        try:\n",
    "            # Send the initial POST request with JSON data\n",
    "            response = requests.post(\n",
    "                str(self.url), json=input_data, headers=self.headers, stream=True\n",
    "            )\n",
    "            response.raise_for_status()  # Raise an exception for bad status codes\n",
    "            for data in self.parse_sse(response):\n",
    "                try:\n",
    "                    event = ast.literal_eval(data)\n",
    "                    # event must be a dictionary: parsing it into a dictionary\n",
    "                    if \"pickled_response\" in event.keys():\n",
    "                        binary_data = base64.b64decode(event[\"pickled_response\"])\n",
    "                        response = pickle.loads(binary_data)\n",
    "                        # print(f\"Received pickled response with keys: {response.keys()}\")\n",
    "                        print(\"Received pickled response!\")\n",
    "                        return response\n",
    "                    else:\n",
    "                        print(f\"Error1: Received data: {data}\")\n",
    "                except:\n",
    "                    print(f\"Error2: Received non-dict data: {data}\")\n",
    "        except requests.exceptions.RequestException as e:\n",
    "            print(f\"An error occurred while making the request: {e}\")\n",
    "        except Exception as e:\n",
    "            print(f\"An unexpected error occurred: {e}\")"
   ]
  },
  {
   "cell_type": "code",
   "execution_count": null,
   "metadata": {},
   "outputs": [],
   "source": [
    "# photonclient = PhotonClient(url=\"http://localhost/photonapi\", api_key = \"iTL4i1LiqqxoY7W5f4hmoNZIFrZAjSn\")\n",
    "\n",
    "\n",
    "from IPython.display import Image as IPImage\n",
    "from IPython.display import display\n",
    "\n",
    "photonclient = PhotonClient(\n",
    "    url=\"http://209.38.182.153/photonapi\", api_key=\"iTL4i1LiqqxoY7W5f4hmoNZIFrZAjSn\"\n",
    ")\n",
    "\n",
    "prompt = {\"prompt\": \"a 2x2 mmi\"}\n",
    "r = photonclient.run(input_data=prompt)\n",
    "\n",
    "\n",
    "print(r.keys())\n",
    "print(r[\"netlist\"])\n",
    "IPImage(r[\"graph_png\"])"
   ]
  },
  {
   "cell_type": "code",
   "execution_count": null,
   "metadata": {},
   "outputs": [],
   "source": []
  },
  {
   "cell_type": "code",
   "execution_count": null,
   "metadata": {},
   "outputs": [],
   "source": [
    "from IPython.display import Image as IPImage\n",
    "\n",
    "print(r.keys())\n",
    "\n",
    "IPImage(r[\"graph_png\"])\n",
    "print(r[\"netlist\"])"
   ]
  },
  {
   "cell_type": "code",
   "execution_count": null,
   "metadata": {},
   "outputs": [],
   "source": [
    "type(r)"
   ]
  },
  {
   "cell_type": "code",
   "execution_count": null,
   "metadata": {},
   "outputs": [],
   "source": [
    "from IPython.display import Image as IPImage\n",
    "\n",
    "\n",
    "def pretty_display(response_dict):\n",
    "    for key, item in response_dict.items():\n",
    "        if \"png\" in key:\n",
    "            display(IPImage(response_dict[key]))\n",
    "        if \"png\" in key:\n",
    "            display(IPImage(response_dict[key]))\n",
    "        print(key, type(item))\n",
    "\n",
    "\n",
    "pretty_display(r)"
   ]
  }
 ],
 "metadata": {
  "kernelspec": {
   "display_name": "PhotonEnv",
   "language": "python",
   "name": "python3"
  },
  "language_info": {
   "codemirror_mode": {
    "name": "ipython",
    "version": 3
   },
   "file_extension": ".py",
   "mimetype": "text/x-python",
   "name": "python",
   "nbconvert_exporter": "python",
   "pygments_lexer": "ipython3",
   "version": "3.12.2"
  }
 },
 "nbformat": 4,
 "nbformat_minor": 2
}
